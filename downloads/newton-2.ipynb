{
 "metadata": {
  "language": "Julia",
  "name": "",
  "signature": "sha256:cf257c4336f08e614d00d06aa333096bcfaef07834aaffbe3cff4c1f1feee9be"
 },
 "nbformat": 3,
 "nbformat_minor": 0,
 "worksheets": [
  {
   "cells": [
    {
     "cell_type": "heading",
     "level": 1,
     "metadata": {},
     "source": [
      "Newton The Ultimate: One Weird Trick To Make You A Mathematical Superhero, part 2: Julia, optimization & automatic differentiation"
     ]
    },
    {
     "cell_type": "markdown",
     "metadata": {},
     "source": [
      "Because I've heard good things about it, I've switched to the [Julia programming language](http://julialang.org/). This post is written as an IJulia notebook. It's like a REPL session, except with text in between, and you can go back and edit and re-run any expression. You can [download this notebook] and load it up in IJulia to play with the code. This is the first time I'm using Julia, so I very much welcome any tips & corrections.\n",
      "\n",
      "In part 1 we used Newton's method to solve equations $f(x) = 0$. Now we're going to use Newton's method for optimization. Optimization in math doesn't mean making something run faster; it means finding the maximum or minimum of a function:\n",
      "\n",
      "$$\\text{minimize } f(x)$$ \n",
      "\n",
      "As you may know, we can find such a minimum or maximum by solving \n",
      "\n",
      "$$f'(x) = 0$$ \n",
      "\n",
      "We will use Newton's method to find a solution to that equation."
     ]
    },
    {
     "cell_type": "heading",
     "level": 2,
     "metadata": {},
     "source": [
      "The Tent Company"
     ]
    },
    {
     "cell_type": "markdown",
     "metadata": {},
     "source": [
      "The company Zelte GmbH makes tents with a circular groundsheet and conical roof. The ground sheet will have radius $r$ and the roof will have height $h$: \n",
      "\n",
      "![Tent dimensions r & h](http://julesjacobs.github.io/images/newton/tent.jpg) \n",
      "\n",
      "The marketing departments want a tent with a specific volume $V$, but since they are a business they want to do it with the least amount of tent sheet possible. The question is what is the best shape to minimize the amount of tent sheet? \n",
      "\n",
      "![Different shapes of tents](http://julesjacobs.github.io/images/newton/tents.jpg)\n",
      "\n",
      "Do we need a wide and short tent? Or a slim and tall? Or something in between?\n",
      "\n",
      "The volume of the tent and the total area of the tent sheet are given by [these equations](http://en.wikipedia.org/wiki/Cone):\n",
      "\n",
      "$$\\begin{align}V & = \\frac{1}{3} \\pi r^2 h\\\\ A & = \\pi r^2 + \\pi r \\sqrt{r^2 + h^2} \\end{align}$$ \n",
      "\n",
      "Since the volume is given to us by the marketing department, we rewrite the volume equation as follows: \n",
      "\n",
      "$$ h = \\frac{3V}{\\pi r^2} $$\n",
      "\n",
      "and we plug it into the area equation:\n",
      "\n",
      "$$ A = \\pi r^2 + \\pi r \\sqrt{r^2 + \\left(\\frac{3V}{\\pi r^2}\\right)^2} $$\n",
      "\n",
      "Here's the problem we want to solve:\n",
      "\n",
      "$$ \\text{minimize}\\;\\; \\pi r^2 + \\pi r \\sqrt{r^2 + \\left(\\frac{3V}{\\pi r^2}\\right)^2} $$\n",
      "\n",
      "Lets call that function $A(r)$. Here's that in Julia code:"
     ]
    },
    {
     "cell_type": "code",
     "collapsed": false,
     "input": [
      "A(r) = pi*r^2 + pi*r*sqrt(r^2 + ((3V)/(pi*r^2))^2)"
     ],
     "language": "python",
     "metadata": {},
     "outputs": [
      {
       "metadata": {},
       "output_type": "pyout",
       "prompt_number": 1,
       "text": [
        "A (generic function with 1 method)"
       ]
      }
     ],
     "prompt_number": 1
    },
    {
     "cell_type": "markdown",
     "metadata": {},
     "source": [
      "To run that code, we also need to define $V$:"
     ]
    },
    {
     "cell_type": "code",
     "collapsed": false,
     "input": [
      "V = 2.43"
     ],
     "language": "python",
     "metadata": {},
     "outputs": [
      {
       "metadata": {},
       "output_type": "pyout",
       "prompt_number": 2,
       "text": [
        "2.43"
       ]
      }
     ],
     "prompt_number": 2
    },
    {
     "cell_type": "markdown",
     "metadata": {},
     "source": [
      "Lets plot that function to see what it looks like:"
     ]
    },
    {
     "cell_type": "code",
     "collapsed": false,
     "input": [
      "using Winston\n",
      "fplot(A, [0,10])\n",
      "xlabel(\"r\")\n",
      "ylabel(\"A(r)\")"
     ],
     "language": "python",
     "metadata": {},
     "outputs": [
      {
       "metadata": {},
       "output_type": "pyout",
       "png": "[encoded data removed]",
       "prompt_number": 3,
       "text": [
        "FramedPlot(...)"
       ]
      }
     ],
     "prompt_number": 3
    },
    {
     "cell_type": "markdown",
     "metadata": {},
     "source": [
      "You can visually see the $r$ that gives us the minimum tent sheet area, but we want to know that $r$ exactly. To do Newton's method we want to solve $A'(r) = 0$ and Newton's algorithm for that is:\n",
      "\n",
      "$$ \\text{iterate}\\;\\; r \\leftarrow r - \\frac{A'(r)}{A''(r)} $$\n",
      "\n",
      "Compared to Newton's method for solving equations, we've just added an extra ' everywhere to turn it into Newton's method for optimization. We could try to compute the derivatives by hand, but that's tedious, so let's ask Wolfram Alpha for the [first derivative](http://www.wolframalpha.com/input/?i=d%2Fdr%28pi*r%5E2+%2B+pi*r*sqrt%28r%5E2+%2B+%28%283*V%29%2F%28pi*r%5E2%29%29%5E2%29%29%29) and [second derivative](http://www.wolframalpha.com/input/?i=d%5E2%2Fdr%5E2%28pi*r%5E2+%2B+pi*r*sqrt%28r%5E2+%2B+%28%283*V%29%2F%28pi*r%5E2%29%29%5E2%29%29%29). Go check out those links.\n",
      "\n",
      "Whoa, these derivatives are huge! It's a good thing we didn't try that by hand. But now we have to type those derivatives into our code, and even *typing* them is very tedious."
     ]
    },
    {
     "cell_type": "heading",
     "level": 2,
     "metadata": {},
     "source": [
      "Approximating derivatives with finite differences"
     ]
    },
    {
     "cell_type": "markdown",
     "metadata": {},
     "source": [
      "Instead of computing the derivatives exactly, we can approximate them with this formula:\n",
      "\n",
      "$$f'(x) \\approx \\frac{f(x+\\epsilon) - f(x-\\epsilon)}{2\\epsilon}$$\n",
      "\n",
      "where $\\epsilon$ is a very small number. Lets do it in Julia. We define a function `deriv(f)` that takes a function and returns a new function that is the derivative of that function, using that approximation:"
     ]
    },
    {
     "cell_type": "code",
     "collapsed": false,
     "input": [
      "eps = 0.00001\n",
      "deriv(f) = x -> (f(x+eps) - f(x-eps))/(2*eps)\n",
      "dA = deriv(A)\n",
      "ddA = deriv(dA)"
     ],
     "language": "python",
     "metadata": {},
     "outputs": [
      {
       "metadata": {},
       "output_type": "pyout",
       "prompt_number": 4,
       "text": [
        "(anonymous function)"
       ]
      }
     ],
     "prompt_number": 4
    },
    {
     "cell_type": "markdown",
     "metadata": {},
     "source": [
      "We can now run Newton's method:"
     ]
    },
    {
     "cell_type": "code",
     "collapsed": false,
     "input": [
      "r = 6.0 # initial guess\n",
      "rs = [r] # array where we collect all the steps for visualization\n",
      "for i = 1:20\n",
      "    r = r - dA(r) / ddA(r)\n",
      "    push!(rs,r)\n",
      "end"
     ],
     "language": "python",
     "metadata": {},
     "outputs": [],
     "prompt_number": 5
    },
    {
     "cell_type": "markdown",
     "metadata": {},
     "source": [
      "Here are the steps of the algorithm visualized:"
     ]
    },
    {
     "cell_type": "code",
     "collapsed": false,
     "input": [
      "fplot(A,[0,10])\n",
      "xlabel(\"r\")\n",
      "ylabel(\"A(r)\")\n",
      "oplot(rs,Float64[A(r) for r in rs],\"b-o\")"
     ],
     "language": "python",
     "metadata": {},
     "outputs": [
      {
       "metadata": {},
       "output_type": "pyout",
       "png": "[encoded data removed]",
       "prompt_number": 6,
       "text": [
        "FramedPlot(...)"
       ]
      }
     ],
     "prompt_number": 6
    },
    {
     "cell_type": "markdown",
     "metadata": {},
     "source": [
      "As you can see it starts at 6, then jumps to 0.00197, and then creeps to the right until it hits 0.936147."
     ]
    },
    {
     "cell_type": "heading",
     "level": 2,
     "metadata": {},
     "source": [
      "Automatic differentiation"
     ]
    },
    {
     "cell_type": "markdown",
     "metadata": {},
     "source": [
      "Approximating derivatives with finite differences isn't such a great idea. It's slow and it is very susceptible to rounding errors. Luckily for us there is something called **automatic differentiation**. It lets us write any function in Julia, and the automatic differentiation library will compute the **exact** derivative for us (there are automatic differentiation libraries for many other languages as well). That seems like magic; how does automatic differentiation work? That beyond the scope of this post. You can read [the Wikipedia page on automatic differentiation](http://en.wikipedia.org/wiki/Automatic_differentiation) if you want to know the details. I'll use a Julia library called [HyperDualNumbers](https://github.com/JuliaDiff/HyperDualNumbers.jl) that provides tools for automatic differentiation. We use it by creating a special number which is the original number paired up with derivative information. Then we pass that into our function that we want the derivatives of, and the hyper dual number that comes out carries the derivatives with it. For the details read the documentation of HyperDualNumbers."
     ]
    },
    {
     "cell_type": "code",
     "collapsed": false,
     "input": [
      "using HyperDualNumbers\n",
      "function derivs(f)\n",
      "    function derivs_f(x)\n",
      "        hyper_x = hyper(x, 1.0, 1.0, 0.0)\n",
      "        hyper_y = f(hyper_x)\n",
      "        (eps1(hyper_y), eps1eps2(hyper_y))\n",
      "    end\n",
      "    derivs_f\n",
      "end"
     ],
     "language": "python",
     "metadata": {},
     "outputs": [
      {
       "metadata": {},
       "output_type": "pyout",
       "prompt_number": 7,
       "text": [
        "derivs (generic function with 1 method)"
       ]
      }
     ],
     "prompt_number": 7
    },
    {
     "cell_type": "markdown",
     "metadata": {},
     "source": [
      "This defines a function `derivs(f)` that takes a function and returns a new function which will compute the first and second derivatives and return them in a tuple. Here's an example:"
     ]
    },
    {
     "cell_type": "code",
     "collapsed": false,
     "input": [
      "derivs_A = derivs(A)\n",
      "derivs_A(2.3)"
     ],
     "language": "python",
     "metadata": {},
     "outputs": [
      {
       "metadata": {},
       "output_type": "pyout",
       "prompt_number": 8,
       "text": [
        "(28.38861592246652,13.654400298971083)"
       ]
      }
     ],
     "prompt_number": 8
    },
    {
     "cell_type": "markdown",
     "metadata": {},
     "source": [
      "This matches the finite difference approximation:"
     ]
    },
    {
     "cell_type": "code",
     "collapsed": false,
     "input": [
      "(dA(2.3), ddA(2.3))"
     ],
     "language": "python",
     "metadata": {},
     "outputs": [
      {
       "metadata": {},
       "output_type": "pyout",
       "prompt_number": 9,
       "text": [
        "(28.388615922736445,13.654410935259873)"
       ]
      }
     ],
     "prompt_number": 9
    },
    {
     "cell_type": "markdown",
     "metadata": {},
     "source": [
      "Let's try newton's method with automatic differentiation:"
     ]
    },
    {
     "cell_type": "code",
     "collapsed": false,
     "input": [
      "r = 6.0 # initial guess\n",
      "rs = [r] # array where we collect all the steps for visualization\n",
      "for i = 1:20\n",
      "    d_A, dd_A = derivs_A(r)\n",
      "    r = r - d_A / dd_A\n",
      "    push!(rs,r)\n",
      "end"
     ],
     "language": "python",
     "metadata": {},
     "outputs": [],
     "prompt_number": 10
    },
    {
     "cell_type": "markdown",
     "metadata": {},
     "source": [
      "Here are the results:"
     ]
    },
    {
     "cell_type": "code",
     "collapsed": false,
     "input": [
      "fplot(A,[0,10])\n",
      "xlabel(\"r\")\n",
      "ylabel(\"A(r)\")\n",
      "oplot(rs,Float64[A(r) for r in rs],\"b-o\")"
     ],
     "language": "python",
     "metadata": {},
     "outputs": [
      {
       "metadata": {},
       "output_type": "pyout",
       "png": "[encoded data removed]",
       "prompt_number": 11,
       "text": [
        "FramedPlot(...)"
       ]
      }
     ],
     "prompt_number": 11
    },
    {
     "cell_type": "markdown",
     "metadata": {},
     "source": [
      "So what's the shape of the tent?"
     ]
    },
    {
     "cell_type": "code",
     "collapsed": false,
     "input": [
      "h = 3V / (pi*r^2)\n",
      "(r,h)"
     ],
     "language": "python",
     "metadata": {},
     "outputs": [
      {
       "metadata": {},
       "output_type": "pyout",
       "prompt_number": 12,
       "text": [
        "(0.9361473682155564,2.6478246090206405)"
       ]
      }
     ],
     "prompt_number": 12
    },
    {
     "cell_type": "markdown",
     "metadata": {},
     "source": [
      "Here's what it looks like:"
     ]
    },
    {
     "cell_type": "code",
     "collapsed": false,
     "input": [
      "p = FramedPlot(aspect_ratio = 1)\n",
      "add(p,Curve([0,-r,r,0],[h,0,0,h],color=\"blue\"))"
     ],
     "language": "python",
     "metadata": {},
     "outputs": [
      {
       "metadata": {},
       "output_type": "pyout",
       "png": "[encoded data removed]",
       "prompt_number": 13,
       "text": [
        "FramedPlot(...)"
       ]
      }
     ],
     "prompt_number": 13
    },
    {
     "cell_type": "markdown",
     "metadata": {},
     "source": [
      "That's our tent, I hope Zelte GmbH will be happy."
     ]
    },
    {
     "cell_type": "heading",
     "level": 2,
     "metadata": {},
     "source": [
      "Conclusion"
     ]
    },
    {
     "cell_type": "markdown",
     "metadata": {},
     "source": [
      "We've used Newton's algoritm for optimization. There's still some basics to cover: \n",
      "\n",
      "1. Sometimes a Newton step goes *way* too far. This happens when the function looks linear. We can solve that using a line search: if the step goes too far, we take a smaller step.\n",
      "2. What happens if we have multiple minima or maxima? Then Newton step can go *in the wrong direction*. To solve that we need a fallback to gradient descent.\n",
      "\n",
      "After that we can get to the really interesting stuff like machine learning and image denoising :)\n",
      "\n",
      "I welcome any feedback: it this easy to understand, or hard? Is it going too fast, or too slow? How's the IJulia notebook format?\n",
      "\n",
      "See you next time!"
     ]
    }
   ],
   "metadata": {}
  }
 ]
}